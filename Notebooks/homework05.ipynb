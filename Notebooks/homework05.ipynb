{
 "cells": [
  {
   "cell_type": "markdown",
   "metadata": {},
   "source": [
    "## Homework\n",
    "\n",
    "---\n",
    "\n",
    "**Note** all the files including app.py, Dockerfile, etc. are in `Homework/Deployment`.\n",
    "\n",
    "---\n",
    "\n",
    "> Note: sometimes your answer doesn't match one of the options exactly. \n",
    "> That's fine. \n",
    "> Select the option that's closest to your solution.\n",
    "\n",
    "> Note: we recommend using python 3.11 in this homework.\n",
    "\n",
    "In this homework, we will use the Bank Marketing dataset. Download it from [here](https://archive.ics.uci.edu/static/public/222/bank+marketing.zip).\n",
    "\n",
    "You can do it with `wget`:\n",
    "\n",
    "```bash\n",
    "wget https://archive.ics.uci.edu/static/public/222/bank+marketing.zip\n",
    "unzip bank+marketing.zip \n",
    "unzip bank.zip\n",
    "```\n",
    "\n",
    "We need `bank-full.csv`.\n",
    "\n",
    "You can also access the copy of `back-full.csv` directly:\n",
    "\n",
    "```bash\n",
    "wget https://github.com/alexeygrigorev/datasets/raw/refs/heads/master/bank-full.csv\n",
    "```\n",
    "\n",
    "\n",
    "## Question 1\n",
    "\n",
    "* Install Pipenv\n",
    "* What's the version of pipenv you installed?\n",
    "* Use `--version` to find out"
   ]
  },
  {
   "cell_type": "code",
   "execution_count": 1,
   "metadata": {},
   "outputs": [
    {
     "name": "stdout",
     "output_type": "stream",
     "text": [
      "Requirement already satisfied: pipenv in /home/svetlana/.pyenv/versions/probabl/lib/python3.12/site-packages (2024.2.0)\n",
      "Requirement already satisfied: certifi in /home/svetlana/.pyenv/versions/probabl/lib/python3.12/site-packages (from pipenv) (2024.8.30)\n",
      "Requirement already satisfied: packaging>=22 in /home/svetlana/.pyenv/versions/probabl/lib/python3.12/site-packages (from pipenv) (24.1)\n",
      "Requirement already satisfied: setuptools>=67 in /home/svetlana/.pyenv/versions/probabl/lib/python3.12/site-packages (from pipenv) (75.2.0)\n",
      "Requirement already satisfied: virtualenv>=20.24.2 in /home/svetlana/.pyenv/versions/probabl/lib/python3.12/site-packages (from pipenv) (20.27.0)\n",
      "Requirement already satisfied: distlib<1,>=0.3.7 in /home/svetlana/.pyenv/versions/probabl/lib/python3.12/site-packages (from virtualenv>=20.24.2->pipenv) (0.3.9)\n",
      "Requirement already satisfied: filelock<4,>=3.12.2 in /home/svetlana/.pyenv/versions/probabl/lib/python3.12/site-packages (from virtualenv>=20.24.2->pipenv) (3.16.1)\n",
      "Requirement already satisfied: platformdirs<5,>=3.9.1 in /home/svetlana/.pyenv/versions/probabl/lib/python3.12/site-packages (from virtualenv>=20.24.2->pipenv) (4.3.6)\n"
     ]
    }
   ],
   "source": [
    "! pip install pipenv"
   ]
  },
  {
   "cell_type": "code",
   "execution_count": 2,
   "metadata": {},
   "outputs": [
    {
     "name": "stdout",
     "output_type": "stream",
     "text": [
      "\u001b[1mpipenv\u001b[0m, version 2024.2.0\n"
     ]
    }
   ],
   "source": [
    "! pipenv --version"
   ]
  },
  {
   "cell_type": "markdown",
   "metadata": {},
   "source": [
    "Good blog on how pyenv and pipenv work together: https://prassanna.io/blog/2019-05-29-pipenv-pyenv/\n",
    "\n",
    "I already broke this but in principle you need to allow pipenv to use pyenv python:\n",
    "`echo 'export PIPENV_PYTHON=\"$PYENV_ROOT/shims/python\"' >> ~/.bashrc`"
   ]
  },
  {
   "cell_type": "markdown",
   "metadata": {},
   "source": [
    "## Question 2\n",
    "\n",
    "* Use Pipenv to install Scikit-Learn version 1.5.2\n",
    "* What's the first hash for scikit-learn you get in Pipfile.lock?\n",
    "\n",
    "> **Note**: you should create an empty folder for homework\n",
    "and do it there. \n",
    "\n",
    "sha256:03b6158efa3faaf1feea3faa884c840ebd61b6484167c711548fce208ea09445"
   ]
  },
  {
   "cell_type": "markdown",
   "metadata": {},
   "source": [
    "## Models\n",
    "\n",
    "We've prepared a dictionary vectorizer and a model.\n",
    "\n",
    "They were trained (roughly) using this code:\n",
    "\n",
    "```python\n",
    "features = ['job', 'duration', 'poutcome']\n",
    "dicts = df[features].to_dict(orient='records')\n",
    "\n",
    "dv = DictVectorizer(sparse=False)\n",
    "X = dv.fit_transform(dicts)\n",
    "\n",
    "model = LogisticRegression().fit(X, y)\n",
    "```\n",
    "\n",
    "> **Note**: You don't need to train the model. This code is just for your reference.\n",
    "\n",
    "And then saved with Pickle. Download them:\n",
    "\n",
    "* [DictVectorizer](https://github.com/DataTalksClub/machine-learning-zoomcamp/tree/master/cohorts/2024/05-deployment/homework/dv.bin?raw=true)\n",
    "* [LogisticRegression](https://github.com/DataTalksClub/machine-learning-zoomcamp/tree/master/cohorts/2024/05-deployment/homework/model1.bin?raw=true)\n",
    "\n",
    "With `wget`:\n",
    "\n",
    "```bash\n",
    "PREFIX=https://raw.githubusercontent.com/DataTalksClub/machine-learning-zoomcamp/master/cohorts/2024/05-deployment/homework\n",
    "wget $PREFIX/model1.bin\n",
    "wget $PREFIX/dv.bin\n",
    "```\n",
    "\n",
    "\n",
    "## Question 3\n",
    "\n",
    "Let's use these models!\n",
    "\n",
    "* Write a script for loading these models with pickle\n",
    "* Score this client:\n",
    "\n",
    "```json\n",
    "{\"job\": \"management\", \"duration\": 400, \"poutcome\": \"success\"}\n",
    "```\n",
    "\n",
    "What's the probability that this client will get a subscription? \n",
    "\n",
    "* 0.359\n",
    "* 0.559\n",
    "* 0.759 (yes)\n",
    "* 0.959\n",
    "\n",
    "If you're getting errors when unpickling the files, check their checksum:\n",
    "\n",
    "```bash\n",
    "$ md5sum model1.bin dv.bin\n",
    "3d8bb28974e55edefa000fe38fd3ed12  model1.bin\n",
    "7d37616e00aa80f2152b8b0511fc2dff  dv.bin\n",
    "```\n"
   ]
  },
  {
   "cell_type": "code",
   "execution_count": 2,
   "metadata": {},
   "outputs": [],
   "source": [
    "import pickle\n",
    "import requests\n"
   ]
  },
  {
   "cell_type": "code",
   "execution_count": 4,
   "metadata": {},
   "outputs": [],
   "source": [
    "# use with() because it will close the file automatically\n",
    "with open(\"/home/svetlana/code/ml-zoomcamp-2024/Homework/Deployment/dv.bin\", \"rb\") as f:\n",
    "    dv = pickle.load(f)"
   ]
  },
  {
   "cell_type": "code",
   "execution_count": 5,
   "metadata": {},
   "outputs": [],
   "source": [
    "with open(\"/home/svetlana/code/ml-zoomcamp-2024/Homework/Deployment/model1.bin\", \"rb\") as f:\n",
    "    model = pickle.load(f)"
   ]
  },
  {
   "cell_type": "code",
   "execution_count": 16,
   "metadata": {},
   "outputs": [
    {
     "data": {
      "text/plain": [
       "np.float64(0.7590966516879658)"
      ]
     },
     "execution_count": 16,
     "metadata": {},
     "output_type": "execute_result"
    }
   ],
   "source": [
    "# code from lectures\n",
    "def predict_single(customer, dv, model):\n",
    "    X = dv.transform([customer])\n",
    "    y_pred = model.predict_proba(X)[:, 1] #assuming get a subscription = 1\n",
    "    return y_pred[0]\n",
    "\n",
    "client = {\"job\": \"management\", \"duration\": 400, \"poutcome\": \"success\"}\n",
    "predict_single(client, dv, model)\n"
   ]
  },
  {
   "cell_type": "markdown",
   "metadata": {},
   "source": [
    "## Question 4\n",
    "\n",
    "Now let's serve this model as a web service\n",
    "\n",
    "* Install Flask and gunicorn (or waitress, if you're on Windows)\n",
    "* Write Flask code for serving the model\n",
    "* Now score this client using `requests`:\n",
    "\n",
    "```python\n",
    "url = \"YOUR_URL\"\n",
    "client = {\"job\": \"student\", \"duration\": 280, \"poutcome\": \"failure\"}\n",
    "requests.post(url, json=client).json()\n",
    "```\n",
    "\n",
    "What's the probability that this client will get a subscription?\n",
    "\n",
    "* 0.335 (yes)\n",
    "* 0.535\n",
    "* 0.735\n",
    "* 0.935"
   ]
  },
  {
   "cell_type": "markdown",
   "metadata": {},
   "source": [
    "```\n",
    "pipenv install flask\n",
    "pipenv install gunicorn\n",
    "```"
   ]
  },
  {
   "cell_type": "code",
   "execution_count": 19,
   "metadata": {},
   "outputs": [
    {
     "name": "stdout",
     "output_type": "stream",
     "text": [
      "{'subscription': False, 'subscription_probability': 0.33480703475511053}\n"
     ]
    }
   ],
   "source": [
    "\n",
    "url = \"http://127.0.0.1:9696/predict\" #remember to add endpoint!!!\n",
    "client = {\"job\": \"student\", \"duration\": 280, \"poutcome\": \"failure\"}\n",
    "# requests.get(url) #200 #OK\n",
    "response = requests.post(url, json=client)#.json()\n",
    "\n",
    "# gpt\n",
    "if response.status_code == 200:\n",
    "    print(response.json())\n",
    "else:\n",
    "    print(f\"Failed with status code {response.status_code}\")"
   ]
  },
  {
   "cell_type": "markdown",
   "metadata": {},
   "source": [
    "OK I am stupid: if I see this error \"JSONDecodeError: Expecting value: line 1 column 1 (char 0)\" it means it returned an empty json and this is because I forgot the /predict endpoint.\n",
    "\n",
    "See gpt in code to see suggestions from huggingchat (def load_model to import dv and model)"
   ]
  },
  {
   "cell_type": "code",
   "execution_count": null,
   "metadata": {},
   "outputs": [],
   "source": []
  },
  {
   "cell_type": "markdown",
   "metadata": {},
   "source": [
    "## Docker\n",
    "\n",
    "Install [Docker](https://github.com/DataTalksClub/machine-learning-zoomcamp/blob/master/05-deployment/06-docker.md). \n",
    "We will use it for the next two questions.\n",
    "\n",
    "For these questions, we prepared a base image: `svizor/zoomcamp-model:3.11.5-slim`. \n",
    "You'll need to use it (see Question 5 for an example).\n",
    "\n",
    "This image is based on `python:3.11.5-slim` and has a logistic regression model \n",
    "(a different one) as well a dictionary vectorizer inside. \n",
    "\n",
    "This is how the Dockerfile for this image looks like:\n",
    "\n",
    "```docker \n",
    "FROM python:3.11.5-slim\n",
    "WORKDIR /app\n",
    "COPY [\"model2.bin\", \"dv.bin\", \"./\"]\n",
    "```\n",
    "\n",
    "We already built it and then pushed it to [`svizor/zoomcamp-model:3.11.5-slim`](https://hub.docker.com/r/svizor/zoomcamp-model).\n",
    "\n",
    "> **Note**: You don't need to build this docker image, it's just for your reference.\n"
   ]
  },
  {
   "cell_type": "markdown",
   "metadata": {},
   "source": []
  },
  {
   "cell_type": "markdown",
   "metadata": {},
   "source": [
    "## Question 5\n",
    "\n",
    "Download the base image `svizor/zoomcamp-model:3.11.5-slim`. You can easily make it by using [docker pull](https://docs.docker.com/engine/reference/commandline/pull/) command.\n",
    "\n",
    "So what's the size of this base image?\n",
    "\n",
    "* 45 MB\n",
    "* 130 MB (yes)\n",
    "* 245 MB\n",
    "* 330 MB\n",
    "\n",
    "You can get this information when running `docker images` - it'll be in the \"SIZE\" column.\n",
    "\n",
    "\n",
    "## Dockerfile\n",
    "\n",
    "Now create your own Dockerfile based on the image we prepared.\n",
    "\n",
    "It should start like that:\n",
    "\n",
    "```docker\n",
    "FROM svizor/zoomcamp-model:3.11.5-slim\n",
    "# add your stuff here\n",
    "```\n",
    "\n",
    "Now complete it:\n",
    "\n",
    "* Install all the dependencies form the Pipenv file\n",
    "* Copy your Flask script\n",
    "* Run it with Gunicorn \n",
    "\n",
    "After that, you can build your docker image.\n"
   ]
  },
  {
   "cell_type": "markdown",
   "metadata": {},
   "source": [
    "**Note**: pipenv somehow detected my probabl pyenv and got mixed up - used all the dependencies from there :-(  I will need to understand how to avoid it in the future. RIght now I would simply copy Pipfile and Pipfile.lock from the lecture. Note: lecture has python 3.7 so no-go. Will have to live with marimo and polars dragged around. Luckily probabl was not very full yet."
   ]
  },
  {
   "cell_type": "markdown",
   "metadata": {},
   "source": [
    "**Note 2** Next time pay attention to this: \"Pipenv found itself running within a virtual environment,  so it will automatically use that environment, instead of  creating \n",
    "its own for any project. You can set\n",
    "PIPENV_IGNORE_VIRTUALENVS=1 to force pipenv to ignore that environment and create  its own instead.\n",
    "\""
   ]
  },
  {
   "cell_type": "code",
   "execution_count": 5,
   "metadata": {},
   "outputs": [
    {
     "name": "stdout",
     "output_type": "stream",
     "text": [
      "{'subscription': False, 'subscription_probability': 0.33480703475511053}\n",
      "{'subscription': True, 'subscription_probability': 0.7590966516879658}\n"
     ]
    }
   ],
   "source": [
    "# testing gunicorn locally\n",
    "# run like gunicorn app:app (name of module (app.py): name of app (app in our case). not \"predict()\" endpoint!)\n",
    "url = \"http://127.0.0.1:8000/predict\" #remember to add endpoint!!!\n",
    "clients = [{\"job\": \"student\", \"duration\": 280, \"poutcome\": \"failure\"},\n",
    "           {\"job\": \"management\", \"duration\": 400, \"poutcome\": \"success\"}]\n",
    "\n",
    "# requests.get(url) #200 #OK\n",
    "for client in clients:\n",
    "    response = requests.post(url, json=client)#.json()\n",
    "\n",
    "    if response.status_code == 200:\n",
    "        print(response.json())\n",
    "    else:\n",
    "        print(f\"Failed with status code {response.status_code}\")"
   ]
  },
  {
   "cell_type": "markdown",
   "metadata": {},
   "source": [
    "## Question 6\n",
    "\n",
    "Let's run your docker container!\n",
    "\n",
    "After running it, score this client once again:\n",
    "\n",
    "```python\n",
    "url = \"YOUR_URL\"\n",
    "client = {\"job\": \"management\", \"duration\": 400, \"poutcome\": \"success\"}\n",
    "requests.post(url, json=client).json()\n",
    "```\n",
    "\n",
    "What's the probability that this client will get a subscription now?\n",
    "\n",
    "* 0.287\n",
    "* 0.530\n",
    "* 0.757\n",
    "* 0.960\n",
    "\n",
    "\n"
   ]
  },
  {
   "cell_type": "markdown",
   "metadata": {},
   "source": [
    "**Note** : they use ENTRYPOINT and not CMD. Why?\n",
    "\n",
    "Official documentation: https://docs.docker.com/reference/dockerfile/#entrypoint \n",
    "\n",
    "Blogpost: https://codewithyury.com/docker-run-vs-cmd-vs-entrypoint/ \n",
    "\n",
    "In a nutshell:\n",
    "\n",
    "- CMD specifies default command - it will be run when container is started without specifying a command. It will be ignored when run with a specified command.\n",
    "- ENTRYPOINT makes container executable. It will not be ignored. \n",
    "\n",
    "**Note on forms**\n",
    "\n",
    "There are two forms to specify docker instructions:\n",
    "- ENTRYPOINT [\"executable\", \"param1\", \"param2\"] (exec form, preferred)\n",
    "- ENTRYPOINT command param1 param2 (shell form)\n",
    "\n",
    "ENTRYPOINT will behave differently with these two forms!\n",
    "\n",
    "Exec form allows to add CMD on top of that with additional parameters, and both ENTRYPOINT and CMD parameters will be used.\n",
    "\n",
    "Shell form will simply ignore any CMD command.\n",
    "\n",
    "\n",
    "**Note on python version**\n",
    "\n",
    "To solve the problem, simply start NOT with the downloaded course container, but with python:3.X.X-slim. See FAQ."
   ]
  },
  {
   "cell_type": "markdown",
   "metadata": {},
   "source": [
    "Command to build image:\n",
    "\n",
    "`docker build -t subscription-prediction .`\n",
    "\n",
    "\n",
    "\n"
   ]
  },
  {
   "cell_type": "markdown",
   "metadata": {},
   "source": [
    "Command to run:\n",
    "\n",
    "`docker run --rm -it subscription-prediction:latest`"
   ]
  },
  {
   "cell_type": "markdown",
   "metadata": {},
   "source": [
    "**Note on pipenv**: first docker entrypoint failed because gunicorn was not found in $PATH, according to GPT it is because I am not inside virtual environment when running the command. New entrypoint should specify `pipenv run gunicorn` to work."
   ]
  },
  {
   "cell_type": "markdown",
   "metadata": {},
   "source": [
    "**Note on IP address of the container**\n",
    "\n",
    "as per gpt, run\n",
    "\n",
    "- `docker ps` to verify container ir running, port exposed and to get ID\n",
    "- `docker inspect -f '{{range.NetworkSettings.Networks}}{{.IPAddress}}{{end}}' <container_id>` to get the IP address of the container\n",
    "\n",
    "\n",
    "Other option (did not try):\n",
    "\n",
    "- run the container with the -p flag to map the container's port to a host port: `docker run -p 9696:9696 <image_name>`. This will allow you to access the container on http://localhost:9696.\n",
    "- Use docker logs to check the container's logs for any errors or warnings: docker logs -f <container_id>.\n",
    "- Try accessing the container using curl or a tool like nc (Netcat) to test the connection: curl http://localhost:9696 or nc localhost 9696."
   ]
  },
  {
   "cell_type": "code",
   "execution_count": 8,
   "metadata": {},
   "outputs": [
    {
     "name": "stdout",
     "output_type": "stream",
     "text": [
      "{'subscription': False, 'subscription_probability': 0.33480703475511053}\n",
      "{'subscription': True, 'subscription_probability': 0.7590966516879658}\n"
     ]
    }
   ],
   "source": [
    "# testing docker locally\n",
    "url = \"http://172.17.0.3:9696/predict\" #random IP address...\n",
    "clients = [{\"job\": \"student\", \"duration\": 280, \"poutcome\": \"failure\"},\n",
    "           {\"job\": \"management\", \"duration\": 400, \"poutcome\": \"success\"}]\n",
    "\n",
    "# requests.get(url) #200 #OK\n",
    "for client in clients:\n",
    "    response = requests.post(url, json=client)#.json()\n",
    "\n",
    "    if response.status_code == 200:\n",
    "        print(response.json())\n",
    "    else:\n",
    "        print(f\"Failed with status code {response.status_code}\")"
   ]
  }
 ],
 "metadata": {
  "kernelspec": {
   "display_name": "probabl",
   "language": "python",
   "name": "python3"
  },
  "language_info": {
   "codemirror_mode": {
    "name": "ipython",
    "version": 3
   },
   "file_extension": ".py",
   "mimetype": "text/x-python",
   "name": "python",
   "nbconvert_exporter": "python",
   "pygments_lexer": "ipython3",
   "version": "3.12.0"
  }
 },
 "nbformat": 4,
 "nbformat_minor": 2
}
